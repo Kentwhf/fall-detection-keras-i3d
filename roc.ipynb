{
 "cells": [
  {
   "cell_type": "code",
   "execution_count": 1,
   "metadata": {},
   "outputs": [
    {
     "name": "stderr",
     "output_type": "stream",
     "text": [
      "Using TensorFlow backend.\n",
      "\n",
      "Bad key \"text.kerning_factor\" on line 4 in\n",
      "c:\\users\\kentw\\appdata\\local\\continuum\\anaconda3\\envs\\keras-kinetics-i3d\\lib\\site-packages\\matplotlib\\mpl-data\\stylelib\\_classic_test_patch.mplstyle.\n",
      "You probably need to get an updated matplotlibrc file from\n",
      "https://github.com/matplotlib/matplotlib/blob/v3.1.3/matplotlibrc.template\n",
      "or from the matplotlib source distribution\n"
     ]
    }
   ],
   "source": [
    "# from __future__ import print_function\n",
    "from numpy.random import seed\n",
    "\n",
    "# TensorFlow and tf.keras\n",
    "import tensorflow as tf\n",
    "import tensorflow.keras as keras\n",
    "\n",
    "from DataGenerator import DataGenerator\n",
    "from i3d_inception import *\n",
    "from utils import *\n",
    "\n",
    "# Helper libraries\n",
    "seed(1)\n",
    "import numpy as np\n",
    "import matplotlib\n",
    "import math\n",
    "\n",
    "matplotlib.use('Agg')\n",
    "from matplotlib import pyplot as plt\n",
    "import os\n",
    "\n",
    "from keras.models import load_model, Model, Sequential\n",
    "from keras.layers import (Input, Conv2D, MaxPooling2D, Flatten, Activation, Dense, Dropout, ZeroPadding2D)\n",
    "from keras.optimizers import Adam, SGD\n",
    "from keras.layers.normalization import BatchNormalization\n",
    "from keras.callbacks import EarlyStopping, ModelCheckpoint\n",
    "from sklearn.preprocessing import label_binarize\n",
    "from sklearn.metrics import confusion_matrix, accuracy_score, auc, roc_curve\n",
    "from sklearn.model_selection import KFold, StratifiedShuffleSplit\n",
    "from scipy import interp\n",
    "from keras.layers.advanced_activations import ELU\n",
    "\n",
    "os.environ[\"CUDA_VISIBLE_DEVICES\"] = \"0\"\n",
    "\n",
    "import keras.backend as K\n",
    "\n",
    "config = tf.ConfigProto()\n",
    "config.gpu_options.per_process_gpu_memory_fraction = 0.7\n",
    "config.gpu_options.allow_growth = True\n",
    "K.set_session(tf.Session(config=config))"
   ]
  },
  {
   "cell_type": "code",
   "execution_count": 2,
   "metadata": {},
   "outputs": [],
   "source": [
    "# CHANGE THESE VARIABLES ---\n",
    "save_plots = True\n",
    "use_checkpoint = True # Set to True or False\n",
    "\n",
    "# Paths\n",
    "best_model_path = 'test/'\n",
    "plots_folder = 'plots/'\n",
    "\n",
    "# Hyper parameters\n",
    "batch_norm = False\n",
    "gpu_num = 1 \n",
    "learning_rate = 0.01\n",
    "mini_batch_size = 1\n",
    "weight_0 = 1 # higher weight of 0 prioritizes learning in class 0\n",
    "epochs = 60\n",
    "dropout_prob=0.36\n",
    "\n",
    "# Input dimensions\n",
    "NUM_FRAMES = 64\n",
    "FRAME_HEIGHT = 224\n",
    "FRAME_WIDTH = 224\n",
    "NUM_RGB_CHANNELS = 3\n",
    "NUM_CLASSES = 2\n",
    "\n",
    "optimizer = 'adam'\n",
    "weights = \"rgb_imagenet_and_kinetics\"\n",
    "name = 'LOSO'\n",
    "\n",
    "# Name of the experiment\n",
    "exp = '_lr{}_batchs{}_batchnorm{}_w0_{}_{}_{}'.format(learning_rate,\n",
    "                                                      mini_batch_size,\n",
    "                                                      batch_norm,\n",
    "                                                      weight_0, \n",
    "                                                      name,\n",
    "                                                      weights)"
   ]
  },
  {
   "cell_type": "code",
   "execution_count": 3,
   "metadata": {},
   "outputs": [],
   "source": [
    "# Experiments\n",
    "# 1. Only with hazardous slips (with more data you gathered) --> 60:60--> same as last time with more data\n",
    "# 2. Only with normal slips and 'no slips' --> 60:60 --> this can be a fair detection \n",
    "# 3. Combination of 1+2 --> 120:120\n",
    "# 4. With small slips --> 60:60\n",
    "# 5. With all dataset --> 180:180\n",
    "\n",
    "experiments = {'exp1':['Hazardous_slips', 'Pass_split1'],\n",
    "               'exp2':['Normal_slips', 'Pass_split1'],\n",
    "               'exp3':['Hazardous_slips', 'Normal_slips', 'Pass_split1', 'Pass_split2'],\n",
    "               'exp4':['Small_slips', 'Pass_split1'],\n",
    "               'exp5':['Hazardous_slips', 'Normal_slips', 'Pass_split1', 'Pass_split2', 'Small_slips', 'Pass_split3']\n",
    "              }\n",
    "\n",
    "exp_name = 'exp5' \n",
    "\n",
    "# Make sure you change ROC manually\n",
    "# Learning rate\n",
    "# Memory usage\n",
    "# Patience\n",
    "# ROC title and name\n",
    "# Not use check model\n",
    "# main function argument"
   ]
  },
  {
   "cell_type": "code",
   "execution_count": 4,
   "metadata": {
    "scrolled": false
   },
   "outputs": [
    {
     "name": "stdout",
     "output_type": "stream",
     "text": [
      "WARNING:tensorflow:From c:\\users\\kentw\\appdata\\local\\continuum\\anaconda3\\envs\\keras-kinetics-i3d\\lib\\site-packages\\keras\\backend\\tensorflow_backend.py:174: The name tf.get_default_session is deprecated. Please use tf.compat.v1.get_default_session instead.\n",
      "\n",
      "WARNING:tensorflow:From c:\\users\\kentw\\appdata\\local\\continuum\\anaconda3\\envs\\keras-kinetics-i3d\\lib\\site-packages\\keras\\backend\\tensorflow_backend.py:190: The name tf.global_variables is deprecated. Please use tf.compat.v1.global_variables instead.\n",
      "\n",
      "WARNING:tensorflow:From c:\\users\\kentw\\appdata\\local\\continuum\\anaconda3\\envs\\keras-kinetics-i3d\\lib\\site-packages\\keras\\backend\\tensorflow_backend.py:95: The name tf.reset_default_graph is deprecated. Please use tf.compat.v1.reset_default_graph instead.\n",
      "\n",
      "WARNING:tensorflow:From c:\\users\\kentw\\appdata\\local\\continuum\\anaconda3\\envs\\keras-kinetics-i3d\\lib\\site-packages\\keras\\backend\\tensorflow_backend.py:98: The name tf.placeholder_with_default is deprecated. Please use tf.compat.v1.placeholder_with_default instead.\n",
      "\n",
      "WARNING:tensorflow:From c:\\users\\kentw\\appdata\\local\\continuum\\anaconda3\\envs\\keras-kinetics-i3d\\lib\\site-packages\\keras\\backend\\tensorflow_backend.py:102: The name tf.get_default_graph is deprecated. Please use tf.compat.v1.get_default_graph instead.\n",
      "\n",
      "WARNING:tensorflow:From c:\\users\\kentw\\appdata\\local\\continuum\\anaconda3\\envs\\keras-kinetics-i3d\\lib\\site-packages\\keras\\backend\\tensorflow_backend.py:517: The name tf.placeholder is deprecated. Please use tf.compat.v1.placeholder instead.\n",
      "\n",
      "WARNING:tensorflow:From c:\\users\\kentw\\appdata\\local\\continuum\\anaconda3\\envs\\keras-kinetics-i3d\\lib\\site-packages\\keras\\backend\\tensorflow_backend.py:4138: The name tf.random_uniform is deprecated. Please use tf.random.uniform instead.\n",
      "\n",
      "WARNING:tensorflow:From c:\\users\\kentw\\appdata\\local\\continuum\\anaconda3\\envs\\keras-kinetics-i3d\\lib\\site-packages\\keras\\backend\\tensorflow_backend.py:199: The name tf.is_variable_initialized is deprecated. Please use tf.compat.v1.is_variable_initialized instead.\n",
      "\n",
      "WARNING:tensorflow:From c:\\users\\kentw\\appdata\\local\\continuum\\anaconda3\\envs\\keras-kinetics-i3d\\lib\\site-packages\\keras\\backend\\tensorflow_backend.py:206: The name tf.variables_initializer is deprecated. Please use tf.compat.v1.variables_initializer instead.\n",
      "\n",
      "WARNING:tensorflow:From c:\\users\\kentw\\appdata\\local\\continuum\\anaconda3\\envs\\keras-kinetics-i3d\\lib\\site-packages\\keras\\backend\\tensorflow_backend.py:3445: calling dropout (from tensorflow.python.ops.nn_ops) with keep_prob is deprecated and will be removed in a future version.\n",
      "Instructions for updating:\n",
      "Please use `rate` instead of `keep_prob`. Rate should be set to `rate = 1 - keep_prob`.\n",
      "WARNING:tensorflow:From c:\\users\\kentw\\appdata\\local\\continuum\\anaconda3\\envs\\keras-kinetics-i3d\\lib\\site-packages\\keras\\optimizers.py:790: The name tf.train.Optimizer is deprecated. Please use tf.compat.v1.train.Optimizer instead.\n",
      "\n",
      "WARNING:tensorflow:From c:\\users\\kentw\\appdata\\local\\continuum\\anaconda3\\envs\\keras-kinetics-i3d\\lib\\site-packages\\keras\\backend\\tensorflow_backend.py:3376: The name tf.log is deprecated. Please use tf.math.log instead.\n",
      "\n",
      "WARNING:tensorflow:From c:\\users\\kentw\\appdata\\local\\continuum\\anaconda3\\envs\\keras-kinetics-i3d\\lib\\site-packages\\tensorflow_core\\python\\ops\\nn_impl.py:183: where (from tensorflow.python.ops.array_ops) is deprecated and will be removed in a future version.\n",
      "Instructions for updating:\n",
      "Use tf.where in 2.0, which has the same broadcast rule as np.where\n",
      "\n",
      "Model loaded from checkpoint\n",
      "sub207\n"
     ]
    },
    {
     "name": "stderr",
     "output_type": "stream",
     "text": [
      "C:\\Users\\kentw\\OneDrive - University of Toronto\\PycharmProjects\\keras-kinetics-i3d\\utils.py:208: UserWarning: Update your `Model` call to the Keras 2 API: `Model(inputs=Tensor(\"in..., outputs=Tensor(\"pr...)`\n",
      "  return Model(input=model.input, output=x)\n"
     ]
    },
    {
     "name": "stdout",
     "output_type": "stream",
     "text": [
      "WARNING:tensorflow:From c:\\users\\kentw\\appdata\\local\\continuum\\anaconda3\\envs\\keras-kinetics-i3d\\lib\\site-packages\\keras\\backend\\tensorflow_backend.py:986: The name tf.assign_add is deprecated. Please use tf.compat.v1.assign_add instead.\n",
      "\n",
      "WARNING:tensorflow:From c:\\users\\kentw\\appdata\\local\\continuum\\anaconda3\\envs\\keras-kinetics-i3d\\lib\\site-packages\\keras\\backend\\tensorflow_backend.py:973: The name tf.assign is deprecated. Please use tf.compat.v1.assign instead.\n",
      "\n",
      "FOLD 1 results:\n",
      "TP: 5, TN: 3, FP: 0, FN: 0\n",
      "TPR: 1.0, TNR: 1.0, FPR: 0.0, FNR: 0.0\n",
      "Sensitivity/Recall: 1.0\n",
      "Specificity: 1.0\n",
      "Precision: 1.0\n",
      "F1-measure: 1.0\n",
      "Accuracy: 1.0\n",
      "\n",
      "\n"
     ]
    },
    {
     "name": "stderr",
     "output_type": "stream",
     "text": [
      "C:\\Users\\kentw\\OneDrive - University of Toronto\\PycharmProjects\\keras-kinetics-i3d\\utils.py:208: UserWarning: Update your `Model` call to the Keras 2 API: `Model(inputs=Tensor(\"in..., outputs=Tensor(\"pr...)`\n",
      "  return Model(input=model.input, output=x)\n"
     ]
    },
    {
     "name": "stdout",
     "output_type": "stream",
     "text": [
      "\n",
      "Model loaded from checkpoint\n",
      "sub228\n",
      "FOLD 2 results:\n",
      "TP: 1, TN: 6, FP: 0, FN: 8\n",
      "TPR: 0.1111111111111111, TNR: 1.0, FPR: 0.0, FNR: 0.8888888888888888\n",
      "Sensitivity/Recall: 0.1111111111111111\n",
      "Specificity: 1.0\n",
      "Precision: 1.0\n",
      "F1-measure: 0.19999999999999998\n",
      "Accuracy: 0.4666666666666667\n",
      "\n",
      "\n"
     ]
    },
    {
     "name": "stderr",
     "output_type": "stream",
     "text": [
      "C:\\Users\\kentw\\OneDrive - University of Toronto\\PycharmProjects\\keras-kinetics-i3d\\utils.py:208: UserWarning: Update your `Model` call to the Keras 2 API: `Model(inputs=Tensor(\"in..., outputs=Tensor(\"pr...)`\n",
      "  return Model(input=model.input, output=x)\n"
     ]
    },
    {
     "name": "stdout",
     "output_type": "stream",
     "text": [
      "\n",
      "Model loaded from checkpoint\n",
      "sub232\n",
      "FOLD 3 results:\n",
      "TP: 6, TN: 2, FP: 0, FN: 1\n",
      "TPR: 0.8571428571428571, TNR: 1.0, FPR: 0.0, FNR: 0.14285714285714285\n",
      "Sensitivity/Recall: 0.8571428571428571\n",
      "Specificity: 1.0\n",
      "Precision: 1.0\n",
      "F1-measure: 0.923076923076923\n",
      "Accuracy: 0.8888888888888888\n",
      "\n",
      "\n"
     ]
    },
    {
     "name": "stderr",
     "output_type": "stream",
     "text": [
      "C:\\Users\\kentw\\OneDrive - University of Toronto\\PycharmProjects\\keras-kinetics-i3d\\utils.py:208: UserWarning: Update your `Model` call to the Keras 2 API: `Model(inputs=Tensor(\"in..., outputs=Tensor(\"pr...)`\n",
      "  return Model(input=model.input, output=x)\n"
     ]
    },
    {
     "name": "stdout",
     "output_type": "stream",
     "text": [
      "\n",
      "Model loaded from checkpoint\n",
      "sub237\n"
     ]
    },
    {
     "name": "stderr",
     "output_type": "stream",
     "text": [
      "c:\\users\\kentw\\appdata\\local\\continuum\\anaconda3\\envs\\keras-kinetics-i3d\\lib\\site-packages\\ipykernel_launcher.py:96: RuntimeWarning: invalid value encountered in true_divide\n",
      "c:\\users\\kentw\\appdata\\local\\continuum\\anaconda3\\envs\\keras-kinetics-i3d\\lib\\site-packages\\ipykernel_launcher.py:98: RuntimeWarning: invalid value encountered in true_divide\n",
      "c:\\users\\kentw\\appdata\\local\\continuum\\anaconda3\\envs\\keras-kinetics-i3d\\lib\\site-packages\\ipykernel_launcher.py:102: RuntimeWarning: invalid value encountered in true_divide\n",
      "c:\\users\\kentw\\appdata\\local\\continuum\\anaconda3\\envs\\keras-kinetics-i3d\\lib\\site-packages\\sklearn\\metrics\\_ranking.py:808: UndefinedMetricWarning: No positive samples in y_true, true positive value should be meaningless\n",
      "  UndefinedMetricWarning)\n"
     ]
    },
    {
     "name": "stdout",
     "output_type": "stream",
     "text": [
      "FOLD 4 results:\n",
      "TP: 0, TN: 6, FP: 1, FN: 0\n",
      "TPR: nan, TNR: 0.8571428571428571, FPR: 0.14285714285714285, FNR: nan\n",
      "Sensitivity/Recall: nan\n",
      "Specificity: 0.8571428571428571\n",
      "Precision: 0.0\n",
      "F1-measure: nan\n",
      "Accuracy: 0.8571428571428571\n",
      "\n",
      "\n"
     ]
    },
    {
     "name": "stderr",
     "output_type": "stream",
     "text": [
      "C:\\Users\\kentw\\OneDrive - University of Toronto\\PycharmProjects\\keras-kinetics-i3d\\utils.py:208: UserWarning: Update your `Model` call to the Keras 2 API: `Model(inputs=Tensor(\"in..., outputs=Tensor(\"pr...)`\n",
      "  return Model(input=model.input, output=x)\n"
     ]
    },
    {
     "name": "stdout",
     "output_type": "stream",
     "text": [
      "\n",
      "Model loaded from checkpoint\n",
      "sub243\n",
      "FOLD 5 results:\n",
      "TP: 2, TN: 5, FP: 0, FN: 1\n",
      "TPR: 0.6666666666666666, TNR: 1.0, FPR: 0.0, FNR: 0.3333333333333333\n",
      "Sensitivity/Recall: 0.6666666666666666\n",
      "Specificity: 1.0\n",
      "Precision: 1.0\n",
      "F1-measure: 0.8\n",
      "Accuracy: 0.875\n",
      "\n",
      "\n"
     ]
    },
    {
     "name": "stderr",
     "output_type": "stream",
     "text": [
      "C:\\Users\\kentw\\OneDrive - University of Toronto\\PycharmProjects\\keras-kinetics-i3d\\utils.py:208: UserWarning: Update your `Model` call to the Keras 2 API: `Model(inputs=Tensor(\"in..., outputs=Tensor(\"pr...)`\n",
      "  return Model(input=model.input, output=x)\n"
     ]
    },
    {
     "name": "stdout",
     "output_type": "stream",
     "text": [
      "\n",
      "Model loaded from checkpoint\n",
      "sub244\n",
      "FOLD 6 results:\n",
      "TP: 15, TN: 12, FP: 0, FN: 10\n",
      "TPR: 0.6, TNR: 1.0, FPR: 0.0, FNR: 0.4\n",
      "Sensitivity/Recall: 0.6\n",
      "Specificity: 1.0\n",
      "Precision: 1.0\n",
      "F1-measure: 0.7499999999999999\n",
      "Accuracy: 0.7297297297297297\n",
      "\n",
      "\n"
     ]
    },
    {
     "name": "stderr",
     "output_type": "stream",
     "text": [
      "C:\\Users\\kentw\\OneDrive - University of Toronto\\PycharmProjects\\keras-kinetics-i3d\\utils.py:208: UserWarning: Update your `Model` call to the Keras 2 API: `Model(inputs=Tensor(\"in..., outputs=Tensor(\"pr...)`\n",
      "  return Model(input=model.input, output=x)\n"
     ]
    },
    {
     "name": "stdout",
     "output_type": "stream",
     "text": [
      "\n",
      "Model loaded from checkpoint\n",
      "sub245\n"
     ]
    },
    {
     "name": "stderr",
     "output_type": "stream",
     "text": [
      "c:\\users\\kentw\\appdata\\local\\continuum\\anaconda3\\envs\\keras-kinetics-i3d\\lib\\site-packages\\ipykernel_launcher.py:96: RuntimeWarning: invalid value encountered in true_divide\n",
      "c:\\users\\kentw\\appdata\\local\\continuum\\anaconda3\\envs\\keras-kinetics-i3d\\lib\\site-packages\\ipykernel_launcher.py:98: RuntimeWarning: invalid value encountered in true_divide\n",
      "c:\\users\\kentw\\appdata\\local\\continuum\\anaconda3\\envs\\keras-kinetics-i3d\\lib\\site-packages\\ipykernel_launcher.py:101: RuntimeWarning: invalid value encountered in true_divide\n",
      "c:\\users\\kentw\\appdata\\local\\continuum\\anaconda3\\envs\\keras-kinetics-i3d\\lib\\site-packages\\ipykernel_launcher.py:102: RuntimeWarning: invalid value encountered in true_divide\n",
      "c:\\users\\kentw\\appdata\\local\\continuum\\anaconda3\\envs\\keras-kinetics-i3d\\lib\\site-packages\\sklearn\\metrics\\_ranking.py:808: UndefinedMetricWarning: No positive samples in y_true, true positive value should be meaningless\n",
      "  UndefinedMetricWarning)\n"
     ]
    },
    {
     "name": "stdout",
     "output_type": "stream",
     "text": [
      "FOLD 7 results:\n",
      "TP: 0, TN: 18, FP: 0, FN: 0\n",
      "TPR: nan, TNR: 1.0, FPR: 0.0, FNR: nan\n",
      "Sensitivity/Recall: nan\n",
      "Specificity: 1.0\n",
      "Precision: nan\n",
      "F1-measure: nan\n",
      "Accuracy: 1.0\n",
      "\n",
      "\n"
     ]
    },
    {
     "name": "stderr",
     "output_type": "stream",
     "text": [
      "C:\\Users\\kentw\\OneDrive - University of Toronto\\PycharmProjects\\keras-kinetics-i3d\\utils.py:208: UserWarning: Update your `Model` call to the Keras 2 API: `Model(inputs=Tensor(\"in..., outputs=Tensor(\"pr...)`\n",
      "  return Model(input=model.input, output=x)\n"
     ]
    },
    {
     "name": "stdout",
     "output_type": "stream",
     "text": [
      "\n",
      "Model loaded from checkpoint\n",
      "sub247\n",
      "FOLD 8 results:\n",
      "TP: 1, TN: 8, FP: 0, FN: 0\n",
      "TPR: 1.0, TNR: 1.0, FPR: 0.0, FNR: 0.0\n",
      "Sensitivity/Recall: 1.0\n",
      "Specificity: 1.0\n",
      "Precision: 1.0\n",
      "F1-measure: 1.0\n",
      "Accuracy: 1.0\n",
      "\n",
      "\n"
     ]
    },
    {
     "name": "stderr",
     "output_type": "stream",
     "text": [
      "C:\\Users\\kentw\\OneDrive - University of Toronto\\PycharmProjects\\keras-kinetics-i3d\\utils.py:208: UserWarning: Update your `Model` call to the Keras 2 API: `Model(inputs=Tensor(\"in..., outputs=Tensor(\"pr...)`\n",
      "  return Model(input=model.input, output=x)\n"
     ]
    },
    {
     "name": "stdout",
     "output_type": "stream",
     "text": [
      "\n",
      "Model loaded from checkpoint\n",
      "sub248\n",
      "FOLD 9 results:\n",
      "TP: 16, TN: 10, FP: 1, FN: 5\n",
      "TPR: 0.7619047619047619, TNR: 0.9090909090909091, FPR: 0.09090909090909091, FNR: 0.23809523809523808\n",
      "Sensitivity/Recall: 0.7619047619047619\n",
      "Specificity: 0.9090909090909091\n",
      "Precision: 0.9411764705882353\n",
      "F1-measure: 0.8421052631578947\n",
      "Accuracy: 0.8125\n",
      "\n",
      "\n"
     ]
    },
    {
     "name": "stderr",
     "output_type": "stream",
     "text": [
      "C:\\Users\\kentw\\OneDrive - University of Toronto\\PycharmProjects\\keras-kinetics-i3d\\utils.py:208: UserWarning: Update your `Model` call to the Keras 2 API: `Model(inputs=Tensor(\"in..., outputs=Tensor(\"pr...)`\n",
      "  return Model(input=model.input, output=x)\n"
     ]
    },
    {
     "name": "stdout",
     "output_type": "stream",
     "text": [
      "\n",
      "Model loaded from checkpoint\n",
      "sub249\n",
      "FOLD 10 results:\n",
      "TP: 15, TN: 7, FP: 2, FN: 3\n",
      "TPR: 0.8333333333333334, TNR: 0.7777777777777778, FPR: 0.2222222222222222, FNR: 0.16666666666666666\n",
      "Sensitivity/Recall: 0.8333333333333334\n",
      "Specificity: 0.7777777777777778\n",
      "Precision: 0.8823529411764706\n",
      "F1-measure: 0.8571428571428571\n",
      "Accuracy: 0.8148148148148148\n",
      "\n",
      "\n"
     ]
    },
    {
     "name": "stderr",
     "output_type": "stream",
     "text": [
      "C:\\Users\\kentw\\OneDrive - University of Toronto\\PycharmProjects\\keras-kinetics-i3d\\utils.py:208: UserWarning: Update your `Model` call to the Keras 2 API: `Model(inputs=Tensor(\"in..., outputs=Tensor(\"pr...)`\n",
      "  return Model(input=model.input, output=x)\n"
     ]
    },
    {
     "name": "stdout",
     "output_type": "stream",
     "text": [
      "\n",
      "Model loaded from checkpoint\n",
      "sub251\n",
      "FOLD 11 results:\n",
      "TP: 3, TN: 6, FP: 0, FN: 5\n",
      "TPR: 0.375, TNR: 1.0, FPR: 0.0, FNR: 0.625\n",
      "Sensitivity/Recall: 0.375\n",
      "Specificity: 1.0\n",
      "Precision: 1.0\n",
      "F1-measure: 0.5454545454545454\n",
      "Accuracy: 0.6428571428571429\n",
      "\n",
      "\n"
     ]
    },
    {
     "name": "stderr",
     "output_type": "stream",
     "text": [
      "C:\\Users\\kentw\\OneDrive - University of Toronto\\PycharmProjects\\keras-kinetics-i3d\\utils.py:208: UserWarning: Update your `Model` call to the Keras 2 API: `Model(inputs=Tensor(\"in..., outputs=Tensor(\"pr...)`\n",
      "  return Model(input=model.input, output=x)\n"
     ]
    },
    {
     "name": "stdout",
     "output_type": "stream",
     "text": [
      "\n",
      "Model loaded from checkpoint\n",
      "sub252\n",
      "FOLD 12 results:\n",
      "TP: 8, TN: 4, FP: 0, FN: 2\n",
      "TPR: 0.8, TNR: 1.0, FPR: 0.0, FNR: 0.2\n",
      "Sensitivity/Recall: 0.8\n",
      "Specificity: 1.0\n",
      "Precision: 1.0\n",
      "F1-measure: 0.888888888888889\n",
      "Accuracy: 0.8571428571428571\n",
      "\n",
      "\n"
     ]
    },
    {
     "name": "stderr",
     "output_type": "stream",
     "text": [
      "C:\\Users\\kentw\\OneDrive - University of Toronto\\PycharmProjects\\keras-kinetics-i3d\\utils.py:208: UserWarning: Update your `Model` call to the Keras 2 API: `Model(inputs=Tensor(\"in..., outputs=Tensor(\"pr...)`\n",
      "  return Model(input=model.input, output=x)\n"
     ]
    },
    {
     "name": "stdout",
     "output_type": "stream",
     "text": [
      "\n",
      "Model loaded from checkpoint\n",
      "sub253\n",
      "FOLD 13 results:\n",
      "TP: 5, TN: 16, FP: 1, FN: 5\n",
      "TPR: 0.5, TNR: 0.9411764705882353, FPR: 0.058823529411764705, FNR: 0.5\n",
      "Sensitivity/Recall: 0.5\n",
      "Specificity: 0.9411764705882353\n",
      "Precision: 0.8333333333333334\n",
      "F1-measure: 0.625\n",
      "Accuracy: 0.7777777777777778\n",
      "\n",
      "\n"
     ]
    },
    {
     "name": "stderr",
     "output_type": "stream",
     "text": [
      "C:\\Users\\kentw\\OneDrive - University of Toronto\\PycharmProjects\\keras-kinetics-i3d\\utils.py:208: UserWarning: Update your `Model` call to the Keras 2 API: `Model(inputs=Tensor(\"in..., outputs=Tensor(\"pr...)`\n",
      "  return Model(input=model.input, output=x)\n"
     ]
    },
    {
     "name": "stdout",
     "output_type": "stream",
     "text": [
      "\n",
      "Model loaded from checkpoint\n",
      "sub254\n",
      "FOLD 14 results:\n",
      "TP: 4, TN: 5, FP: 0, FN: 1\n",
      "TPR: 0.8, TNR: 1.0, FPR: 0.0, FNR: 0.2\n",
      "Sensitivity/Recall: 0.8\n",
      "Specificity: 1.0\n",
      "Precision: 1.0\n",
      "F1-measure: 0.888888888888889\n",
      "Accuracy: 0.9\n",
      "\n",
      "\n"
     ]
    },
    {
     "name": "stderr",
     "output_type": "stream",
     "text": [
      "C:\\Users\\kentw\\OneDrive - University of Toronto\\PycharmProjects\\keras-kinetics-i3d\\utils.py:208: UserWarning: Update your `Model` call to the Keras 2 API: `Model(inputs=Tensor(\"in..., outputs=Tensor(\"pr...)`\n",
      "  return Model(input=model.input, output=x)\n"
     ]
    },
    {
     "name": "stdout",
     "output_type": "stream",
     "text": [
      "\n",
      "Model loaded from checkpoint\n",
      "sub255\n",
      "FOLD 15 results:\n",
      "TP: 13, TN: 23, FP: 2, FN: 3\n",
      "TPR: 0.8125, TNR: 0.92, FPR: 0.08, FNR: 0.1875\n",
      "Sensitivity/Recall: 0.8125\n",
      "Specificity: 0.92\n",
      "Precision: 0.8666666666666667\n",
      "F1-measure: 0.8387096774193549\n",
      "Accuracy: 0.8780487804878049\n",
      "\n",
      "\n"
     ]
    },
    {
     "name": "stderr",
     "output_type": "stream",
     "text": [
      "C:\\Users\\kentw\\OneDrive - University of Toronto\\PycharmProjects\\keras-kinetics-i3d\\utils.py:208: UserWarning: Update your `Model` call to the Keras 2 API: `Model(inputs=Tensor(\"in..., outputs=Tensor(\"pr...)`\n",
      "  return Model(input=model.input, output=x)\n"
     ]
    },
    {
     "name": "stdout",
     "output_type": "stream",
     "text": [
      "\n",
      "Model loaded from checkpoint\n",
      "sub263\n",
      "FOLD 16 results:\n",
      "TP: 16, TN: 13, FP: 0, FN: 4\n",
      "TPR: 0.8, TNR: 1.0, FPR: 0.0, FNR: 0.2\n",
      "Sensitivity/Recall: 0.8\n",
      "Specificity: 1.0\n",
      "Precision: 1.0\n",
      "F1-measure: 0.888888888888889\n",
      "Accuracy: 0.8787878787878788\n",
      "\n",
      "\n"
     ]
    },
    {
     "name": "stderr",
     "output_type": "stream",
     "text": [
      "C:\\Users\\kentw\\OneDrive - University of Toronto\\PycharmProjects\\keras-kinetics-i3d\\utils.py:208: UserWarning: Update your `Model` call to the Keras 2 API: `Model(inputs=Tensor(\"in..., outputs=Tensor(\"pr...)`\n",
      "  return Model(input=model.input, output=x)\n"
     ]
    },
    {
     "name": "stdout",
     "output_type": "stream",
     "text": [
      "\n",
      "Model loaded from checkpoint\n",
      "sub264\n",
      "FOLD 17 results:\n",
      "TP: 9, TN: 15, FP: 3, FN: 0\n",
      "TPR: 1.0, TNR: 0.8333333333333334, FPR: 0.16666666666666666, FNR: 0.0\n",
      "Sensitivity/Recall: 1.0\n",
      "Specificity: 0.8333333333333334\n",
      "Precision: 0.75\n",
      "F1-measure: 0.8571428571428571\n",
      "Accuracy: 0.8888888888888888\n",
      "\n",
      "\n"
     ]
    },
    {
     "name": "stderr",
     "output_type": "stream",
     "text": [
      "C:\\Users\\kentw\\OneDrive - University of Toronto\\PycharmProjects\\keras-kinetics-i3d\\utils.py:208: UserWarning: Update your `Model` call to the Keras 2 API: `Model(inputs=Tensor(\"in..., outputs=Tensor(\"pr...)`\n",
      "  return Model(input=model.input, output=x)\n"
     ]
    },
    {
     "name": "stdout",
     "output_type": "stream",
     "text": [
      "\n",
      "Model loaded from checkpoint\n",
      "sub265\n",
      "FOLD 18 results:\n",
      "TP: 7, TN: 11, FP: 0, FN: 6\n",
      "TPR: 0.5384615384615384, TNR: 1.0, FPR: 0.0, FNR: 0.46153846153846156\n",
      "Sensitivity/Recall: 0.5384615384615384\n",
      "Specificity: 1.0\n",
      "Precision: 1.0\n",
      "F1-measure: 0.7000000000000001\n",
      "Accuracy: 0.75\n",
      "\n",
      "\n"
     ]
    },
    {
     "name": "stderr",
     "output_type": "stream",
     "text": [
      "c:\\users\\kentw\\appdata\\local\\continuum\\anaconda3\\envs\\keras-kinetics-i3d\\lib\\site-packages\\ipykernel_launcher.py:179: UserWarning: Matplotlib is currently using agg, which is a non-GUI backend, so cannot show the figure.\n"
     ]
    }
   ],
   "source": [
    "# Loading model checkpoints  \n",
    "exp = exp_name + exp\n",
    "threshold = 0.5\n",
    "\n",
    "# Import data\n",
    "classes = list_data(exp_name, experiments)\n",
    "class0, class1 = classes['fail'], classes['pass']\n",
    "\n",
    "X_full = np.expand_dims((class0 + class1), axis=1)\n",
    "_y_full = np.concatenate(((np.zeros(shape = (len(class0),1))), np.ones(shape = (len(class1),1))))\n",
    "sub_full = np.asarray(extract_subID((class0 + class1)))\n",
    "\n",
    "temp = sorted(zip(X_full, _y_full), key=lambda x: x[0][0][12:15])\n",
    "X_full = np.asarray([item[0] for item in temp])\n",
    "_y_full = np.asarray([item[1] for item in temp])\n",
    "sub_full.sort()\n",
    "sub_full = np.unique(sub_full)\n",
    "\n",
    "#     sensitivities, specificities = [], []\n",
    "#     fars, mdrs, accuracies = [], [], []\n",
    "#     f1s = []  \n",
    "\n",
    "predictions, samples = [], [] # To record all prediction values\n",
    "tps, tns , fps, fns = [], [], [], []\n",
    "fold_number = 1 \n",
    "\n",
    "tprs = []\n",
    "aucs = []\n",
    "mean_fpr = np.linspace(0, 1, 100)\n",
    "fig, ax = plt.subplots() # For ROC\n",
    "from matplotlib.pyplot import cm\n",
    "color=iter(cm.rainbow(np.linspace(0,1,18)))\n",
    "\n",
    "# CROSS-VALIDATION: Stratified partition of the dataset into train/test sets\n",
    "from sklearn.model_selection import LeaveOneOut, train_test_split\n",
    "loo = LeaveOneOut()\n",
    "\n",
    "for train_index, test_index in loo.split(sub_full):\n",
    "    sub_train, sub_test = sub_full[train_index], sub_full[test_index]\n",
    "\n",
    "    # Find the data matching subject ID\n",
    "    X_full, _y_full = X_full.flatten(), _y_full.flatten()\n",
    "    index_train = [False if sub_test[0] in x else True for x in X_full]\n",
    "    index_test = [True if sub_test[0] in x else False for x in X_full]\n",
    "    X_train, y_train = X_full[index_train], _y_full[index_train]\n",
    "    X2, _y2 = X_full[index_test], _y_full[index_test]\n",
    "    X_train, X_val, y_train, y_val = train_test_split(X_train, y_train, \n",
    "                                                      test_size=0.1, random_state=42)\n",
    "\n",
    "    # Generators\n",
    "    training_generator = DataGenerator(X_train, y_train, mini_batch_size*gpu_num)\n",
    "    validation_generator = DataGenerator(X_val, y_val, mini_batch_size*gpu_num)\n",
    "\n",
    "    reset_keras()\n",
    "    model = build_model()\n",
    "    adam = Adam(lr=0.001, beta_1=0.9, beta_2=0.999, epsilon=1e-08)\n",
    "    model.compile(adam, loss='binary_crossentropy', metrics=['accuracy'])\n",
    "\n",
    "    # ==================== EVALUATION ========================\n",
    "\n",
    "    # Load best model\n",
    "    print('\\nModel loaded from checkpoint')\n",
    "    print(sub_test[0])\n",
    "\n",
    "    fold_best_model_path = best_model_path + exp + '_MAA_fold_{}.h5'.format(fold_number)\n",
    "    model = load_model(fold_best_model_path)\n",
    "    test_generator = DataGenerator(X2, _y2, shuffle=False)\n",
    "\n",
    "    predicted = model.predict_generator(test_generator)\n",
    "    y_score = np.copy(predicted)\n",
    "    predicted = predicted[:,1]\n",
    "    predictions.append(y_score)\n",
    "    samples.append(_y2)\n",
    "\n",
    "    for i in range(len(predicted)):\n",
    "        if predicted[i] < threshold:\n",
    "            predicted[i] = 0\n",
    "        else:\n",
    "            predicted[i] = 1\n",
    "\n",
    "    # Array of predictions 0/1\n",
    "    predicted = np.asarray(predicted).astype(int)\n",
    "\n",
    "    # Compute metrics and print them\n",
    "    cm = confusion_matrix(_y2, predicted, labels=[0, 1])\n",
    "    tp = cm[0][0]\n",
    "    fn = cm[0][1]\n",
    "    fp = cm[1][0]\n",
    "    tn = cm[1][1]\n",
    "\n",
    "    tps.append(tp)\n",
    "    tns.append(tn)\n",
    "    fps.append(fp)\n",
    "    fns.append(fn)\n",
    "\n",
    "    tpr = tp / float(tp + fn)\n",
    "    fpr = fp / float(fp + tn)\n",
    "    fnr = fn / float(fn + tp)\n",
    "    tnr = tn / float(tn + fp)\n",
    "    accuracy = accuracy_score(_y2, predicted)\n",
    "    precision = tp / float(tp + fp)\n",
    "    recall = tp / float(tp + fn)\n",
    "    specificity = tn / float(tn + fp)\n",
    "\n",
    "    try:\n",
    "        f1 = 2 * float(precision * recall) / float(precision + recall)                \n",
    "    except:\n",
    "        f1 = 0\n",
    "        print(\"An exception occurred\")\n",
    "\n",
    "    print('FOLD {} results:'.format(fold_number))\n",
    "    print('TP: {}, TN: {}, FP: {}, FN: {}'.format(tp, tn, fp, fn))\n",
    "    print('TPR: {}, TNR: {}, FPR: {}, FNR: {}'.format(tpr, tnr, fpr, fnr))\n",
    "    print('Sensitivity/Recall: {}'.format(recall))\n",
    "    print('Specificity: {}'.format(specificity))\n",
    "    print('Precision: {}'.format(precision))\n",
    "    print('F1-measure: {}'.format(f1))\n",
    "    print('Accuracy: {}'.format(accuracy))\n",
    "    print('\\n')\n",
    "\n",
    "    # Binarize the output\n",
    "    _y2 = label_binarize(_y2, classes=[1, 0])\n",
    "    n_classes = _y2.shape[1] \n",
    "\n",
    "    fpr = dict()\n",
    "    tpr = dict()\n",
    "    roc_auc = dict()\n",
    "\n",
    "    for i in range(n_classes):\n",
    "        fpr[i], tpr[i], _ = roc_curve(_y2[:, i], y_score[:, i])\n",
    "        roc_auc[i] = auc(fpr[i], tpr[i])\n",
    "\n",
    "    lw = 2\n",
    "    c = next(color)\n",
    "    font = {'family' : 'Palatino Linotype', 'size':  13}\n",
    "    plt.rc('font', **font)\n",
    "    \n",
    "    plt.plot(fpr[0], tpr[0],\n",
    "             lw=lw, color=c,\n",
    "             label= 'Leave {}'.format(sub_test[0]) + ' out ' + '(area = %0.2f)' % roc_auc[0])\n",
    "    plt.plot([0, 1], [0, 1], color='navy', lw=lw, linestyle='--')\n",
    "    plt.xlim([0.0, 1.0])\n",
    "    plt.ylim([0.0, 1.05])\n",
    "    plt.xlabel('False Positive Rate', fontfamily= 'Palatino Linotype', fontsize= 13)\n",
    "    plt.ylabel('True Positive Rate', fontfamily= 'Palatino Linotype', fontsize= 13)\n",
    "    plt.title('LOSO Experiment ROC Curves of Class Slips', fontfamily= 'Palatino Linotype')\n",
    "    plt.legend(loc=\"lower right\")\n",
    "\n",
    "    # ROC curve plotting\n",
    "    interp_tpr = np.interp(mean_fpr, fpr[0], tpr[0])\n",
    "    interp_tpr[0] = 0.0\n",
    "    tprs.append(interp_tpr)\n",
    "    aucs.append(roc_auc[0])\n",
    "\n",
    "#                 font = {'family' : 'Palatino Linotype', 'size':  10}\n",
    "#                 plt.rc('font', **font)\n",
    "\n",
    "#             # ROC curve plotting\n",
    "#             interp_tpr = np.interp(mean_fpr, fpr[0], tpr[0])\n",
    "#             interp_tpr[0] = 0.0\n",
    "#             tprs.append(interp_tpr)\n",
    "#             aucs.append(roc_auc[0])\n",
    "#             # Store the metrics for this fold\n",
    "#             sensitivities.append(recall)\n",
    "#             specificities.append(specificity)\n",
    "#             fars.append(fpr)\n",
    "#             mdrs.append(fnr)\n",
    "#             accuracies.append(accuracy)\n",
    "#             f1s.append(f1)\n",
    "\n",
    "    fold_number += 1\n",
    "\n",
    "\n",
    "# ROC\n",
    "ax.plot([0, 1], [0, 1], linestyle='--', lw=2, color='r', label='Chance', alpha=.8)\n",
    "ax.set(xlim=[-0.05, 1.05], ylim=[-0.05, 1.05],)\n",
    "ax.legend(loc=\"lower right\", fontsize= 'xx-small')\n",
    "\n",
    "plt.show()\n",
    "plt.savefig('ROC for LOSO Experiment')"
   ]
  },
  {
   "cell_type": "code",
   "execution_count": 5,
   "metadata": {},
   "outputs": [
    {
     "name": "stdout",
     "output_type": "stream",
     "text": [
      "18-FOLD CROSS-VALIDATION RESULTS ===================\n",
      "Sensitivity: 0.70\n",
      "Specificity: 0.94\n",
      "FAR: 0.06\n",
      "MDR: 0.30\n",
      "Accuracy: 0.82\n",
      "F1: 0.80\n"
     ]
    }
   ],
   "source": [
    "tp = sum(tps)\n",
    "fn = sum(fns)\n",
    "fp = sum(fps)\n",
    "tn = sum(tns)    \n",
    "accuracy = float(tp + tn) / float(tp + tn + fn + fp)\n",
    "precision = tp / float(tp + fp)\n",
    "recall = tp / float(tp + fn)\n",
    "specificity = tn / float(tn + fp) \n",
    "f1 = 2 * float(precision * recall) / float(precision + recall)   \n",
    "fpr = fp / float(fp + tn)\n",
    "fnr = fn / float(fn + tp)\n",
    "\n",
    "print('18-FOLD CROSS-VALIDATION RESULTS ===================')\n",
    "print(\"Sensitivity: %.2f\" % recall)\n",
    "print(\"Specificity: %.2f\" % specificity)\n",
    "print(\"FAR: %.2f\" % fpr)  # False alarm rates \n",
    "print(\"MDR: %.2f\" % fnr)  # Missed detection rates\n",
    "print(\"Accuracy: %.2f\" % accuracy)\n",
    "print(\"F1: %.2f\" % f1)"
   ]
  },
  {
   "cell_type": "code",
   "execution_count": 6,
   "metadata": {
    "scrolled": false
   },
   "outputs": [
    {
     "data": {
      "image/png": "[encoded data removed]",
      "text/plain": [
       "<Figure size 432x288 with 1 Axes>"
      ]
     },
     "metadata": {
      "needs_background": "light"
     },
     "output_type": "display_data"
    }
   ],
   "source": [
    "%matplotlib inline\n",
    "y_score = np.vstack(predictions)\n",
    "samples = np.hstack(samples)\n",
    "\n",
    "# LOOCV\n",
    "tprs = []\n",
    "aucs = []  \n",
    "mean_fpr = np.linspace(0, 1, 100)\n",
    "fig, ax = plt.subplots() # For ROC\n",
    "\n",
    "# Binarize the output\n",
    "_y2 = label_binarize(samples, classes=[1, 0])\n",
    "n_classes = _y2.shape[1] \n",
    "\n",
    "fpr = dict()\n",
    "tpr = dict()\n",
    "roc_auc = dict()\n",
    "\n",
    "font = {'family' : 'Palatino Linotype', 'size':  13}\n",
    "plt.rc('font', **font)\n",
    "for i in range(n_classes):\n",
    "    fpr[i], tpr[i], _ = roc_curve(_y2[:, i], y_score[:, i])\n",
    "    roc_auc[i] = auc(fpr[i], tpr[i])\n",
    "\n",
    "lw = 2\n",
    "plt.plot(fpr[0], tpr[0],\n",
    "         lw=lw, color='b',\n",
    "         label= 'AUC = %0.2f' % roc_auc[0])\n",
    "\n",
    "plt.plot([0, 1], [0, 1], color='navy', lw=lw, linestyle='--')\n",
    "plt.xlim([0.0, 1.0])\n",
    "plt.ylim([0.0, 1.05])\n",
    "plt.xlabel('False Positive Rate', fontfamily= 'Palatino Linotype', fontsize= 13)\n",
    "plt.ylabel('True Positive Rate', fontfamily= 'Palatino Linotype', fontsize= 13)\n",
    "plt.title('LOSO Experiment ROC Curves of Class Slips', fontfamily= 'Palatino Linotype')\n",
    "plt.legend(loc=\"lower right\")\n",
    "\n",
    "# ROC curve plotting\n",
    "interp_tpr = np.interp(mean_fpr, fpr[0], tpr[0])\n",
    "interp_tpr[0] = 0.0\n",
    "tprs.append(interp_tpr)\n",
    "aucs.append(roc_auc[0])\n",
    "\n",
    "ax.plot([0, 1], [0, 1], linestyle='--', lw=2, color='r', label='Chance', alpha=.8)\n",
    "ax.set(xlim=[-0.05, 1.05], ylim=[-0.05, 1.05],)\n",
    "ax.legend(loc=\"lower right\", fontsize= 'medium')\n",
    "\n",
    "plt.savefig('ROC for LOSO Experiment test')\n",
    "plt.show()"
   ]
  },
  {
   "cell_type": "markdown",
   "metadata": {},
   "source": []
  }
 ],
 "metadata": {
  "kernelspec": {
   "display_name": "keras-kinetics-i3d",
   "language": "python",
   "name": "keras-kinetics-i3d"
  },
  "language_info": {
   "codemirror_mode": {
    "name": "ipython",
    "version": 3
   },
   "file_extension": ".py",
   "mimetype": "text/x-python",
   "name": "python",
   "nbconvert_exporter": "python",
   "pygments_lexer": "ipython3",
   "version": "3.6.10"
  }
 },
 "nbformat": 4,
 "nbformat_minor": 4
}
